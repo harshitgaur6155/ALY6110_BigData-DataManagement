{
 "cells": [
  {
   "cell_type": "markdown",
   "metadata": {},
   "source": [
    "# Census Data"
   ]
  },
  {
   "cell_type": "markdown",
   "metadata": {},
   "source": [
    "### Importing Spark Libraries, Visualization Libraries, Pandas-Numpy (Data Manipualtion) Libraries"
   ]
  },
  {
   "cell_type": "code",
   "execution_count": 106,
   "metadata": {},
   "outputs": [],
   "source": [
    "# Import Spark Session\n",
    "from pyspark.sql import SparkSession\n",
    "from pyspark.sql import SQLContext\n",
    "\n",
    "# Import Spark Essential Functionalities \n",
    "from pyspark.sql import functions as func\n",
    "from pyspark.sql.functions import rank, sum, col\n",
    "from pyspark.sql import Window\n",
    "from pyspark.mllib.stat import Statistics"
   ]
  },
  {
   "cell_type": "code",
   "execution_count": 107,
   "metadata": {},
   "outputs": [],
   "source": [
    "# Import Visualization Libraries\n",
    "from IPython.display import display\n",
    "import matplotlib.pyplot as plt\n",
    "import seaborn as sns"
   ]
  },
  {
   "cell_type": "code",
   "execution_count": 108,
   "metadata": {},
   "outputs": [],
   "source": [
    "# Import Pandas, NumPy Libraries\n",
    "import pandas as pd\n",
    "import numpy as np"
   ]
  },
  {
   "cell_type": "code",
   "execution_count": 109,
   "metadata": {},
   "outputs": [],
   "source": [
    "# Start Spark Connection\n",
    "spark = SparkSession.builder.appName(\"aly6110project\").getOrCreate()"
   ]
  },
  {
   "cell_type": "markdown",
   "metadata": {},
   "source": [
    "# <center>----------------------- Data Set #1 -----------------------"
   ]
  },
  {
   "cell_type": "code",
   "execution_count": 110,
   "metadata": {},
   "outputs": [],
   "source": [
    "# Load data\n",
    "path = '/Users/HarshitGaur/Documents/Northeastern University/MPS Analytics/ALY 6110/Project/Dataset/Census Data/Census.csv'\n",
    "pysparkDf = spark.read.csv(path, header = True)\n"
   ]
  },
  {
   "cell_type": "markdown",
   "metadata": {},
   "source": [
    "### To check the schema of data"
   ]
  },
  {
   "cell_type": "code",
   "execution_count": 111,
   "metadata": {},
   "outputs": [
    {
     "name": "stdout",
     "output_type": "stream",
     "text": [
      "root\n",
      " |-- age: string (nullable = true)\n",
      " |-- workclass: string (nullable = true)\n",
      " |-- fnlwgt: string (nullable = true)\n",
      " |-- education: string (nullable = true)\n",
      " |-- education-num: string (nullable = true)\n",
      " |-- marital-status: string (nullable = true)\n",
      " |-- occupation: string (nullable = true)\n",
      " |-- relationship: string (nullable = true)\n",
      " |-- race: string (nullable = true)\n",
      " |-- sex: string (nullable = true)\n",
      " |-- capital-gain: string (nullable = true)\n",
      " |-- capital-loss: string (nullable = true)\n",
      " |-- hours-per-week: string (nullable = true)\n",
      " |-- country: string (nullable = true)\n",
      " |-- Income: string (nullable = true)\n",
      "\n"
     ]
    }
   ],
   "source": [
    "pysparkDf.printSchema()"
   ]
  },
  {
   "cell_type": "markdown",
   "metadata": {},
   "source": [
    "### Checking the first few records of Census data."
   ]
  },
  {
   "cell_type": "code",
   "execution_count": 112,
   "metadata": {},
   "outputs": [
    {
     "name": "stdout",
     "output_type": "stream",
     "text": [
      "+---+-----------------+------+----------+-------------+-------------------+------------------+--------------+------+-------+------------+------------+--------------+-------------+------+\n",
      "|age|        workclass|fnlwgt| education|education-num|     marital-status|        occupation|  relationship|  race|    sex|capital-gain|capital-loss|hours-per-week|      country|Income|\n",
      "+---+-----------------+------+----------+-------------+-------------------+------------------+--------------+------+-------+------------+------------+--------------+-------------+------+\n",
      "| 39|        State-gov| 77516| Bachelors|           13|      Never-married|      Adm-clerical| Not-in-family| White|   Male|        2174|           0|            40|United-States| <=50K|\n",
      "| 50| Self-emp-not-inc| 83311| Bachelors|           13| Married-civ-spouse|   Exec-managerial|       Husband| White|   Male|           0|           0|            13|United-States| <=50K|\n",
      "| 38|          Private|215646|   HS-grad|            9|           Divorced| Handlers-cleaners| Not-in-family| White|   Male|           0|           0|            40|United-States| <=50K|\n",
      "| 53|          Private|234721|      11th|            7| Married-civ-spouse| Handlers-cleaners|       Husband| Black|   Male|           0|           0|            40|United-States| <=50K|\n",
      "| 28|          Private|338409| Bachelors|           13| Married-civ-spouse|    Prof-specialty|          Wife| Black| Female|           0|           0|            40|         Cuba| <=50K|\n",
      "| 37|          Private|284582|   Masters|           14| Married-civ-spouse|   Exec-managerial|          Wife| White| Female|           0|           0|            40|United-States| <=50K|\n",
      "+---+-----------------+------+----------+-------------+-------------------+------------------+--------------+------+-------+------------+------------+--------------+-------------+------+\n",
      "only showing top 6 rows\n",
      "\n"
     ]
    }
   ],
   "source": [
    "pysparkDf.show(6)"
   ]
  },
  {
   "cell_type": "markdown",
   "metadata": {},
   "source": [
    "### Get Total Count of Records in the data set."
   ]
  },
  {
   "cell_type": "code",
   "execution_count": 113,
   "metadata": {},
   "outputs": [
    {
     "data": {
      "text/plain": [
       "32561"
      ]
     },
     "execution_count": 113,
     "metadata": {},
     "output_type": "execute_result"
    }
   ],
   "source": [
    "pysparkDf.count()"
   ]
  },
  {
   "cell_type": "markdown",
   "metadata": {},
   "source": [
    "### Get Statistical Properties of Attributes of the Data."
   ]
  },
  {
   "cell_type": "code",
   "execution_count": 114,
   "metadata": {},
   "outputs": [
    {
     "name": "stdout",
     "output_type": "stream",
     "text": [
      "+-------+------------------+-----------------+------------------+----------------+------------------+\n",
      "|summary|               age|    education-num|      capital-gain|    capital-loss|    hours-per-week|\n",
      "+-------+------------------+-----------------+------------------+----------------+------------------+\n",
      "|  count|             32561|            32561|             32561|           32561|             32561|\n",
      "|   mean| 38.58164675532078| 10.0806793403151|1077.6488437087312| 87.303829734959|40.437455852092995|\n",
      "| stddev|13.640432553581356|2.572720332067397| 7385.292084840354|402.960218649002|12.347428681731838|\n",
      "|    min|                17|                1|                 0|               0|                 1|\n",
      "|    max|                90|                9|             99999|             974|                99|\n",
      "+-------+------------------+-----------------+------------------+----------------+------------------+\n",
      "\n"
     ]
    }
   ],
   "source": [
    "pysparkDf.describe([\"age\", \"education-num\", \"capital-gain\", \"capital-loss\", \"hours-per-week\"]).show()"
   ]
  },
  {
   "cell_type": "markdown",
   "metadata": {},
   "source": [
    "### To check for missing values in the data"
   ]
  },
  {
   "cell_type": "code",
   "execution_count": 115,
   "metadata": {},
   "outputs": [
    {
     "name": "stderr",
     "output_type": "stream",
     "text": [
      "[Stage 271:>                                                        (0 + 1) / 1]\r"
     ]
    },
    {
     "name": "stdout",
     "output_type": "stream",
     "text": [
      "+---+---------+------+---------+-------------+--------------+----------+------------+----+---+------------+------------+--------------+-------+------+\n",
      "|age|workclass|fnlwgt|education|education-num|marital-status|occupation|relationship|race|sex|capital-gain|capital-loss|hours-per-week|country|Income|\n",
      "+---+---------+------+---------+-------------+--------------+----------+------------+----+---+------------+------------+--------------+-------+------+\n",
      "|  0|        0|     0|        0|            0|             0|         0|           0|   0|  0|           0|           0|             0|      0|     0|\n",
      "+---+---------+------+---------+-------------+--------------+----------+------------+----+---+------------+------------+--------------+-------+------+\n",
      "\n"
     ]
    },
    {
     "name": "stderr",
     "output_type": "stream",
     "text": [
      "                                                                                \r"
     ]
    }
   ],
   "source": [
    "from pyspark.sql.functions import isnan, when, count, col\n",
    "\n",
    "pysparkDf.select([count(when(isnan(c), c)).alias(c) for c in pysparkDf.columns]).show()"
   ]
  },
  {
   "cell_type": "markdown",
   "metadata": {},
   "source": [
    "### To check whether data has NULL values in it?"
   ]
  },
  {
   "cell_type": "code",
   "execution_count": 116,
   "metadata": {},
   "outputs": [
    {
     "name": "stdout",
     "output_type": "stream",
     "text": [
      "age  -  0\n",
      "workclass  -  0\n",
      "fnlwgt  -  0\n",
      "education  -  0\n",
      "education-num  -  0\n",
      "marital-status  -  0\n",
      "occupation  -  0\n",
      "relationship  -  0\n",
      "race  -  0\n",
      "sex  -  0\n",
      "capital-gain  -  0\n",
      "capital-loss  -  0\n",
      "hours-per-week  -  0\n",
      "country  -  0\n",
      "Income  -  0\n"
     ]
    }
   ],
   "source": [
    "for col in pysparkDf.columns:\n",
    "    print(col, \" - \", pysparkDf.filter(pysparkDf[col].isNull()).count())"
   ]
  },
  {
   "cell_type": "markdown",
   "metadata": {},
   "source": [
    "### To check whether data has '?' values in it?"
   ]
  },
  {
   "cell_type": "code",
   "execution_count": 117,
   "metadata": {},
   "outputs": [
    {
     "name": "stdout",
     "output_type": "stream",
     "text": [
      "age  -  0\n",
      "workclass  -  1836\n",
      "fnlwgt  -  0\n",
      "education  -  0\n",
      "education-num  -  0\n",
      "marital-status  -  0\n",
      "occupation  -  1843\n",
      "relationship  -  0\n",
      "race  -  0\n",
      "sex  -  0\n",
      "capital-gain  -  0\n",
      "capital-loss  -  0\n",
      "hours-per-week  -  0\n",
      "country  -  0\n",
      "Income  -  0\n"
     ]
    }
   ],
   "source": [
    "for col in pysparkDf.columns:\n",
    "    print(col, \" - \", pysparkDf.filter(pysparkDf[col] == \" ?\").count())"
   ]
  },
  {
   "cell_type": "markdown",
   "metadata": {},
   "source": [
    "### Correlation Matrix"
   ]
  },
  {
   "cell_type": "code",
   "execution_count": 118,
   "metadata": {},
   "outputs": [
    {
     "name": "stderr",
     "output_type": "stream",
     "text": [
      "[Stage 367:>                                                        (0 + 1) / 1]\r"
     ]
    },
    {
     "name": "stdout",
     "output_type": "stream",
     "text": [
      "                     age  education-num  capital-gain  capital-loss  hours-per-week\n",
      "age             1.000000       0.036527      0.077674      0.057775        0.068756\n",
      "education-num   0.036527       1.000000      0.122630      0.079923        0.148123\n",
      "capital-gain    0.077674       0.122630      1.000000     -0.031615        0.078409\n",
      "capital-loss    0.057775       0.079923     -0.031615      1.000000        0.054256\n",
      "hours-per-week  0.068756       0.148123      0.078409      0.054256        1.000000\n"
     ]
    },
    {
     "name": "stderr",
     "output_type": "stream",
     "text": [
      "                                                                                \r"
     ]
    }
   ],
   "source": [
    "corr_data = pysparkDf.select('age', 'education-num', 'capital-gain', 'capital-loss', 'hours-per-week')\n",
    "\n",
    "col_names = corr_data.columns\n",
    "features = corr_data.rdd.map(lambda row: row[0:])\n",
    "corr_mat=Statistics.corr(features, method=\"pearson\")\n",
    "corr_df = pd.DataFrame(corr_mat)\n",
    "corr_df.index, corr_df.columns = col_names, col_names\n",
    "\n",
    "print(corr_df.to_string())"
   ]
  },
  {
   "cell_type": "markdown",
   "metadata": {},
   "source": [
    "### Correlation Plot (Heat Map)"
   ]
  },
  {
   "cell_type": "code",
   "execution_count": 119,
   "metadata": {},
   "outputs": [
    {
     "data": {
      "text/html": [
       "<style type=\"text/css\">\n",
       "#T_584e4_row0_col0, #T_584e4_row1_col1, #T_584e4_row2_col2, #T_584e4_row3_col3, #T_584e4_row4_col4 {\n",
       "  background-color: #08306b;\n",
       "  color: #f1f1f1;\n",
       "}\n",
       "#T_584e4_row0_col1, #T_584e4_row1_col0, #T_584e4_row2_col3, #T_584e4_row3_col2, #T_584e4_row3_col4 {\n",
       "  background-color: #f7fbff;\n",
       "  color: #000000;\n",
       "}\n",
       "#T_584e4_row0_col2, #T_584e4_row1_col3, #T_584e4_row4_col2 {\n",
       "  background-color: #e2edf8;\n",
       "  color: #000000;\n",
       "}\n",
       "#T_584e4_row0_col3, #T_584e4_row2_col1 {\n",
       "  background-color: #e6f0f9;\n",
       "  color: #000000;\n",
       "}\n",
       "#T_584e4_row0_col4 {\n",
       "  background-color: #f5f9fe;\n",
       "  color: #000000;\n",
       "}\n",
       "#T_584e4_row1_col2 {\n",
       "  background-color: #d9e8f5;\n",
       "  color: #000000;\n",
       "}\n",
       "#T_584e4_row1_col4 {\n",
       "  background-color: #e3eef9;\n",
       "  color: #000000;\n",
       "}\n",
       "#T_584e4_row2_col0 {\n",
       "  background-color: #eff6fc;\n",
       "  color: #000000;\n",
       "}\n",
       "#T_584e4_row2_col4 {\n",
       "  background-color: #f2f8fd;\n",
       "  color: #000000;\n",
       "}\n",
       "#T_584e4_row3_col0 {\n",
       "  background-color: #f3f8fe;\n",
       "  color: #000000;\n",
       "}\n",
       "#T_584e4_row3_col1 {\n",
       "  background-color: #eef5fc;\n",
       "  color: #000000;\n",
       "}\n",
       "#T_584e4_row4_col0 {\n",
       "  background-color: #f1f7fd;\n",
       "  color: #000000;\n",
       "}\n",
       "#T_584e4_row4_col1 {\n",
       "  background-color: #e0ecf8;\n",
       "  color: #000000;\n",
       "}\n",
       "#T_584e4_row4_col3 {\n",
       "  background-color: #e7f0fa;\n",
       "  color: #000000;\n",
       "}\n",
       "</style>\n",
       "<table id=\"T_584e4\">\n",
       "  <thead>\n",
       "    <tr>\n",
       "      <th class=\"blank level0\" >&nbsp;</th>\n",
       "      <th id=\"T_584e4_level0_col0\" class=\"col_heading level0 col0\" >age</th>\n",
       "      <th id=\"T_584e4_level0_col1\" class=\"col_heading level0 col1\" >education-num</th>\n",
       "      <th id=\"T_584e4_level0_col2\" class=\"col_heading level0 col2\" >capital-gain</th>\n",
       "      <th id=\"T_584e4_level0_col3\" class=\"col_heading level0 col3\" >capital-loss</th>\n",
       "      <th id=\"T_584e4_level0_col4\" class=\"col_heading level0 col4\" >hours-per-week</th>\n",
       "    </tr>\n",
       "  </thead>\n",
       "  <tbody>\n",
       "    <tr>\n",
       "      <th id=\"T_584e4_level0_row0\" class=\"row_heading level0 row0\" >age</th>\n",
       "      <td id=\"T_584e4_row0_col0\" class=\"data row0 col0\" >1.000000</td>\n",
       "      <td id=\"T_584e4_row0_col1\" class=\"data row0 col1\" >0.036527</td>\n",
       "      <td id=\"T_584e4_row0_col2\" class=\"data row0 col2\" >0.077674</td>\n",
       "      <td id=\"T_584e4_row0_col3\" class=\"data row0 col3\" >0.057775</td>\n",
       "      <td id=\"T_584e4_row0_col4\" class=\"data row0 col4\" >0.068756</td>\n",
       "    </tr>\n",
       "    <tr>\n",
       "      <th id=\"T_584e4_level0_row1\" class=\"row_heading level0 row1\" >education-num</th>\n",
       "      <td id=\"T_584e4_row1_col0\" class=\"data row1 col0\" >0.036527</td>\n",
       "      <td id=\"T_584e4_row1_col1\" class=\"data row1 col1\" >1.000000</td>\n",
       "      <td id=\"T_584e4_row1_col2\" class=\"data row1 col2\" >0.122630</td>\n",
       "      <td id=\"T_584e4_row1_col3\" class=\"data row1 col3\" >0.079923</td>\n",
       "      <td id=\"T_584e4_row1_col4\" class=\"data row1 col4\" >0.148123</td>\n",
       "    </tr>\n",
       "    <tr>\n",
       "      <th id=\"T_584e4_level0_row2\" class=\"row_heading level0 row2\" >capital-gain</th>\n",
       "      <td id=\"T_584e4_row2_col0\" class=\"data row2 col0\" >0.077674</td>\n",
       "      <td id=\"T_584e4_row2_col1\" class=\"data row2 col1\" >0.122630</td>\n",
       "      <td id=\"T_584e4_row2_col2\" class=\"data row2 col2\" >1.000000</td>\n",
       "      <td id=\"T_584e4_row2_col3\" class=\"data row2 col3\" >-0.031615</td>\n",
       "      <td id=\"T_584e4_row2_col4\" class=\"data row2 col4\" >0.078409</td>\n",
       "    </tr>\n",
       "    <tr>\n",
       "      <th id=\"T_584e4_level0_row3\" class=\"row_heading level0 row3\" >capital-loss</th>\n",
       "      <td id=\"T_584e4_row3_col0\" class=\"data row3 col0\" >0.057775</td>\n",
       "      <td id=\"T_584e4_row3_col1\" class=\"data row3 col1\" >0.079923</td>\n",
       "      <td id=\"T_584e4_row3_col2\" class=\"data row3 col2\" >-0.031615</td>\n",
       "      <td id=\"T_584e4_row3_col3\" class=\"data row3 col3\" >1.000000</td>\n",
       "      <td id=\"T_584e4_row3_col4\" class=\"data row3 col4\" >0.054256</td>\n",
       "    </tr>\n",
       "    <tr>\n",
       "      <th id=\"T_584e4_level0_row4\" class=\"row_heading level0 row4\" >hours-per-week</th>\n",
       "      <td id=\"T_584e4_row4_col0\" class=\"data row4 col0\" >0.068756</td>\n",
       "      <td id=\"T_584e4_row4_col1\" class=\"data row4 col1\" >0.148123</td>\n",
       "      <td id=\"T_584e4_row4_col2\" class=\"data row4 col2\" >0.078409</td>\n",
       "      <td id=\"T_584e4_row4_col3\" class=\"data row4 col3\" >0.054256</td>\n",
       "      <td id=\"T_584e4_row4_col4\" class=\"data row4 col4\" >1.000000</td>\n",
       "    </tr>\n",
       "  </tbody>\n",
       "</table>\n"
      ],
      "text/plain": [
       "<pandas.io.formats.style.Styler at 0x7fa0eba8fa90>"
      ]
     },
     "execution_count": 119,
     "metadata": {},
     "output_type": "execute_result"
    }
   ],
   "source": [
    "corr_df.style.background_gradient(cmap='Blues')"
   ]
  },
  {
   "cell_type": "markdown",
   "metadata": {},
   "source": [
    "### Histogram to show the distribution of 'Age' of the Census Data."
   ]
  },
  {
   "cell_type": "code",
   "execution_count": 141,
   "metadata": {},
   "outputs": [
    {
     "name": "stderr",
     "output_type": "stream",
     "text": [
      "                                                                                \r"
     ]
    },
    {
     "data": {
      "image/png": "[encoded data removed]",
      "text/plain": [
       "<Figure size 720x576 with 1 Axes>"
      ]
     },
     "metadata": {
      "needs_background": "light"
     },
     "output_type": "display_data"
    }
   ],
   "source": [
    "x = pysparkDf.select('age').toPandas().sort_values(by='age')\n",
    "bins = np.arange(0, 100, 5.0)\n",
    "\n",
    "plt.figure(figsize=(10,8))\n",
    "# the histogram of the data\n",
    "plt.hist(x, bins, alpha=0.8, histtype='bar', color='gold',\n",
    "         ec='black',weights=np.zeros_like(x) + 100. / x.size)\n",
    "\n",
    "plt.xlabel('Age')\n",
    "plt.ylabel('percentage')\n",
    "plt.xticks(bins, size=15)\n",
    "plt.show()\n",
    "\n",
    "# fig.savefig(var+\".pdf\", bbox_inches='tight')"
   ]
  },
  {
   "cell_type": "markdown",
   "metadata": {},
   "source": [
    "### Bar Plot for 'Education Type' of the Census Data"
   ]
  },
  {
   "cell_type": "code",
   "execution_count": 121,
   "metadata": {},
   "outputs": [
    {
     "data": {
      "text/html": [
       "<div>\n",
       "<style scoped>\n",
       "    .dataframe tbody tr th:only-of-type {\n",
       "        vertical-align: middle;\n",
       "    }\n",
       "\n",
       "    .dataframe tbody tr th {\n",
       "        vertical-align: top;\n",
       "    }\n",
       "\n",
       "    .dataframe thead th {\n",
       "        text-align: right;\n",
       "    }\n",
       "</style>\n",
       "<table border=\"1\" class=\"dataframe\">\n",
       "  <thead>\n",
       "    <tr style=\"text-align: right;\">\n",
       "      <th></th>\n",
       "      <th>education</th>\n",
       "      <th>Education_values</th>\n",
       "    </tr>\n",
       "  </thead>\n",
       "  <tbody>\n",
       "    <tr>\n",
       "      <th>0</th>\n",
       "      <td>Prof-school</td>\n",
       "      <td>576</td>\n",
       "    </tr>\n",
       "    <tr>\n",
       "      <th>1</th>\n",
       "      <td>10th</td>\n",
       "      <td>933</td>\n",
       "    </tr>\n",
       "    <tr>\n",
       "      <th>2</th>\n",
       "      <td>7th-8th</td>\n",
       "      <td>646</td>\n",
       "    </tr>\n",
       "    <tr>\n",
       "      <th>3</th>\n",
       "      <td>5th-6th</td>\n",
       "      <td>333</td>\n",
       "    </tr>\n",
       "    <tr>\n",
       "      <th>4</th>\n",
       "      <td>Assoc-acdm</td>\n",
       "      <td>1067</td>\n",
       "    </tr>\n",
       "  </tbody>\n",
       "</table>\n",
       "</div>"
      ],
      "text/plain": [
       "      education  Education_values\n",
       "0   Prof-school               576\n",
       "1          10th               933\n",
       "2       7th-8th               646\n",
       "3       5th-6th               333\n",
       "4    Assoc-acdm              1067"
      ]
     },
     "execution_count": 121,
     "metadata": {},
     "output_type": "execute_result"
    }
   ],
   "source": [
    "education_bar = pysparkDf.select(['education']).\\\n",
    "   groupBy('education').\\\n",
    "   agg(func.count('Education').alias('Education_values')).toPandas()\n",
    "\n",
    "education_bar.head()"
   ]
  },
  {
   "cell_type": "code",
   "execution_count": 122,
   "metadata": {},
   "outputs": [
    {
     "data": {
      "image/png": "[encoded data removed]",
      "text/plain": [
       "<Figure size 1440x576 with 1 Axes>"
      ]
     },
     "metadata": {
      "needs_background": "light"
     },
     "output_type": "display_data"
    }
   ],
   "source": [
    "labels = education_bar['education']\n",
    "# .select('education').toPandas()\n",
    "values = education_bar['Education_values']\n",
    "# .select('Education_values').toPandas()\n",
    "ind = [x for x, _ in enumerate(labels)]\n",
    "\n",
    "plt.figure(figsize=(20,8))\n",
    "plt.bar(ind, values, width=0.8, color='lightgreen')\n",
    "\n",
    "plt.xticks(ind, labels, rotation=45, size=20)\n",
    "plt.xlabel(\"Education Type\")\n",
    "plt.ylabel(\"Number of Citizens\")\n",
    "\n",
    "plt.show()"
   ]
  },
  {
   "cell_type": "markdown",
   "metadata": {},
   "source": [
    "# <center>----------------------- Data Set #2 -----------------------"
   ]
  },
  {
   "cell_type": "code",
   "execution_count": 123,
   "metadata": {},
   "outputs": [],
   "source": [
    "# Load data\n",
    "path = '/Users/HarshitGaur/Documents/Northeastern University/MPS Analytics/ALY 6110/Project/Dataset/CarDekho Sales.csv'\n",
    "pysparkDf_two = spark.read.csv(path, header=True)\n"
   ]
  },
  {
   "cell_type": "markdown",
   "metadata": {},
   "source": [
    "### To check the schema of data"
   ]
  },
  {
   "cell_type": "code",
   "execution_count": 124,
   "metadata": {},
   "outputs": [
    {
     "name": "stdout",
     "output_type": "stream",
     "text": [
      "root\n",
      " |-- name: string (nullable = true)\n",
      " |-- year: string (nullable = true)\n",
      " |-- selling_price: string (nullable = true)\n",
      " |-- km_driven: string (nullable = true)\n",
      " |-- fuel: string (nullable = true)\n",
      " |-- seller_type: string (nullable = true)\n",
      " |-- transmission: string (nullable = true)\n",
      " |-- owner: string (nullable = true)\n",
      " |-- mileage: string (nullable = true)\n",
      " |-- engine: string (nullable = true)\n",
      " |-- max_power: string (nullable = true)\n",
      " |-- torque: string (nullable = true)\n",
      " |-- seats: string (nullable = true)\n",
      "\n"
     ]
    }
   ],
   "source": [
    "pysparkDf_two.printSchema()"
   ]
  },
  {
   "cell_type": "markdown",
   "metadata": {},
   "source": [
    "### Checking the first few records of Census data."
   ]
  },
  {
   "cell_type": "code",
   "execution_count": 125,
   "metadata": {},
   "outputs": [
    {
     "name": "stdout",
     "output_type": "stream",
     "text": [
      "+--------------------+----+-------------+---------+------+-----------+------------+------------+----------+-------+----------+--------------------+-----+\n",
      "|                name|year|selling_price|km_driven|  fuel|seller_type|transmission|       owner|   mileage| engine| max_power|              torque|seats|\n",
      "+--------------------+----+-------------+---------+------+-----------+------------+------------+----------+-------+----------+--------------------+-----+\n",
      "|Maruti Swift Dzir...|2014|       450000|   145500|Diesel| Individual|      Manual| First Owner| 23.4 kmpl|1248 CC|    74 bhp|      190Nm@ 2000rpm|    5|\n",
      "|Skoda Rapid 1.5 T...|2014|       370000|   120000|Diesel| Individual|      Manual|Second Owner|21.14 kmpl|1498 CC|103.52 bhp| 250Nm@ 1500-2500rpm|    5|\n",
      "|Honda City 2017-2...|2006|       158000|   140000|Petrol| Individual|      Manual| Third Owner| 17.7 kmpl|1497 CC|    78 bhp|12.7@ 2,700(kgm@ ...|    5|\n",
      "|Hyundai i20 Sport...|2010|       225000|   127000|Diesel| Individual|      Manual| First Owner| 23.0 kmpl|1396 CC|    90 bhp|22.4 kgm at 1750-...|    5|\n",
      "|Maruti Swift VXI ...|2007|       130000|   120000|Petrol| Individual|      Manual| First Owner| 16.1 kmpl|1298 CC|  88.2 bhp|11.5@ 4,500(kgm@ ...|    5|\n",
      "|Hyundai Xcent 1.2...|2017|       440000|    45000|Petrol| Individual|      Manual| First Owner|20.14 kmpl|1197 CC| 81.86 bhp|   113.75nm@ 4000rpm|    5|\n",
      "+--------------------+----+-------------+---------+------+-----------+------------+------------+----------+-------+----------+--------------------+-----+\n",
      "only showing top 6 rows\n",
      "\n"
     ]
    }
   ],
   "source": [
    "pysparkDf_two.show(6)"
   ]
  },
  {
   "cell_type": "markdown",
   "metadata": {},
   "source": [
    "### Get Total Count of Records in the data set."
   ]
  },
  {
   "cell_type": "code",
   "execution_count": 126,
   "metadata": {},
   "outputs": [
    {
     "data": {
      "text/plain": [
       "8128"
      ]
     },
     "execution_count": 126,
     "metadata": {},
     "output_type": "execute_result"
    }
   ],
   "source": [
    "pysparkDf_two.count()"
   ]
  },
  {
   "cell_type": "markdown",
   "metadata": {},
   "source": [
    "### Get Statistical Properties of Attributes of the Data."
   ]
  },
  {
   "cell_type": "code",
   "execution_count": 127,
   "metadata": {},
   "outputs": [
    {
     "name": "stdout",
     "output_type": "stream",
     "text": [
      "+-------+------------------+-----------------+------------------+----------------+\n",
      "|summary|              year|    selling_price|         km_driven|           seats|\n",
      "+-------+------------------+-----------------+------------------+----------------+\n",
      "|  count|              8128|             8128|              8128|            7907|\n",
      "|   mean|2013.8040108267717|638271.8077017716| 69819.51082677166|5.41671936259011|\n",
      "| stddev| 4.044248753683651|806253.4035082327|56550.554958219276|0.95958752023399|\n",
      "|    min|              1983|           100000|                 1|              10|\n",
      "|    max|              2020|           999000|             99500|               9|\n",
      "+-------+------------------+-----------------+------------------+----------------+\n",
      "\n"
     ]
    }
   ],
   "source": [
    "pysparkDf_two.describe([\"year\", \"selling_price\", \"km_driven\", \"seats\"]).show()"
   ]
  },
  {
   "cell_type": "markdown",
   "metadata": {},
   "source": [
    "### To check for missing values in the data"
   ]
  },
  {
   "cell_type": "code",
   "execution_count": 128,
   "metadata": {},
   "outputs": [
    {
     "name": "stdout",
     "output_type": "stream",
     "text": [
      "+----+----+-------------+---------+----+-----------+------------+-----+-------+------+---------+------+-----+\n",
      "|name|year|selling_price|km_driven|fuel|seller_type|transmission|owner|mileage|engine|max_power|torque|seats|\n",
      "+----+----+-------------+---------+----+-----------+------------+-----+-------+------+---------+------+-----+\n",
      "|   0|   0|            0|        0|   0|          0|           0|    0|      0|     0|        0|     0|    0|\n",
      "+----+----+-------------+---------+----+-----------+------------+-----+-------+------+---------+------+-----+\n",
      "\n"
     ]
    }
   ],
   "source": [
    "from pyspark.sql.functions import isnan, when, count, col\n",
    "\n",
    "pysparkDf_two.select([count(when(isnan(c), c)).alias(c) for c in pysparkDf_two.columns]).show()"
   ]
  },
  {
   "cell_type": "markdown",
   "metadata": {},
   "source": [
    "### To check whether data has NULL values in it?"
   ]
  },
  {
   "cell_type": "code",
   "execution_count": 129,
   "metadata": {},
   "outputs": [
    {
     "name": "stdout",
     "output_type": "stream",
     "text": [
      "name  -  0\n",
      "year  -  0\n",
      "selling_price  -  0\n",
      "km_driven  -  0\n",
      "fuel  -  0\n",
      "seller_type  -  0\n",
      "transmission  -  0\n",
      "owner  -  0\n",
      "mileage  -  221\n",
      "engine  -  221\n",
      "max_power  -  215\n",
      "torque  -  222\n",
      "seats  -  221\n"
     ]
    }
   ],
   "source": [
    "for col in pysparkDf_two.columns:\n",
    "    print(col, \" - \", pysparkDf_two.filter(pysparkDf_two[col].isNull()).count())"
   ]
  },
  {
   "cell_type": "markdown",
   "metadata": {},
   "source": [
    "### Correlation Matrix"
   ]
  },
  {
   "cell_type": "code",
   "execution_count": 130,
   "metadata": {},
   "outputs": [
    {
     "name": "stderr",
     "output_type": "stream",
     "text": [
      "[Stage 425:>                                                        (0 + 1) / 1]\r"
     ]
    },
    {
     "name": "stdout",
     "output_type": "stream",
     "text": [
      "                   year  selling_price  km_driven  seats\n",
      "year           1.000000       0.414092  -0.418006    NaN\n",
      "selling_price  0.414092       1.000000  -0.225534    NaN\n",
      "km_driven     -0.418006      -0.225534   1.000000    NaN\n",
      "seats               NaN            NaN        NaN    1.0\n"
     ]
    },
    {
     "name": "stderr",
     "output_type": "stream",
     "text": [
      "                                                                                \r"
     ]
    }
   ],
   "source": [
    "corr_data = pysparkDf_two.select(\"year\", \"selling_price\", \"km_driven\", \"seats\")\n",
    "\n",
    "col_names = corr_data.columns\n",
    "features = corr_data.rdd.map(lambda row: row[0:])\n",
    "corr_mat=Statistics.corr(features, method=\"pearson\")\n",
    "corr_df = pd.DataFrame(corr_mat)\n",
    "corr_df.index, corr_df.columns = col_names, col_names\n",
    "\n",
    "print(corr_df.to_string())"
   ]
  },
  {
   "cell_type": "markdown",
   "metadata": {},
   "source": [
    "### Correlation Plot (Heat Map)"
   ]
  },
  {
   "cell_type": "code",
   "execution_count": 131,
   "metadata": {},
   "outputs": [
    {
     "data": {
      "text/html": [
       "<style type=\"text/css\">\n",
       "#T_f4a72_row0_col0, #T_f4a72_row1_col1, #T_f4a72_row2_col2 {\n",
       "  background-color: #67000d;\n",
       "  color: #f1f1f1;\n",
       "}\n",
       "#T_f4a72_row0_col1 {\n",
       "  background-color: #f96245;\n",
       "  color: #f1f1f1;\n",
       "}\n",
       "#T_f4a72_row0_col2, #T_f4a72_row0_col3, #T_f4a72_row1_col3, #T_f4a72_row2_col0, #T_f4a72_row2_col1, #T_f4a72_row2_col3, #T_f4a72_row3_col3 {\n",
       "  background-color: #fff5f0;\n",
       "  color: #000000;\n",
       "}\n",
       "#T_f4a72_row1_col0 {\n",
       "  background-color: #f34935;\n",
       "  color: #f1f1f1;\n",
       "}\n",
       "#T_f4a72_row1_col2 {\n",
       "  background-color: #fedecf;\n",
       "  color: #000000;\n",
       "}\n",
       "#T_f4a72_row3_col0, #T_f4a72_row3_col1, #T_f4a72_row3_col2 {\n",
       "  background-color: #000000;\n",
       "  color: #f1f1f1;\n",
       "}\n",
       "</style>\n",
       "<table id=\"T_f4a72\">\n",
       "  <thead>\n",
       "    <tr>\n",
       "      <th class=\"blank level0\" >&nbsp;</th>\n",
       "      <th id=\"T_f4a72_level0_col0\" class=\"col_heading level0 col0\" >year</th>\n",
       "      <th id=\"T_f4a72_level0_col1\" class=\"col_heading level0 col1\" >selling_price</th>\n",
       "      <th id=\"T_f4a72_level0_col2\" class=\"col_heading level0 col2\" >km_driven</th>\n",
       "      <th id=\"T_f4a72_level0_col3\" class=\"col_heading level0 col3\" >seats</th>\n",
       "    </tr>\n",
       "  </thead>\n",
       "  <tbody>\n",
       "    <tr>\n",
       "      <th id=\"T_f4a72_level0_row0\" class=\"row_heading level0 row0\" >year</th>\n",
       "      <td id=\"T_f4a72_row0_col0\" class=\"data row0 col0\" >1.000000</td>\n",
       "      <td id=\"T_f4a72_row0_col1\" class=\"data row0 col1\" >0.414092</td>\n",
       "      <td id=\"T_f4a72_row0_col2\" class=\"data row0 col2\" >-0.418006</td>\n",
       "      <td id=\"T_f4a72_row0_col3\" class=\"data row0 col3\" >nan</td>\n",
       "    </tr>\n",
       "    <tr>\n",
       "      <th id=\"T_f4a72_level0_row1\" class=\"row_heading level0 row1\" >selling_price</th>\n",
       "      <td id=\"T_f4a72_row1_col0\" class=\"data row1 col0\" >0.414092</td>\n",
       "      <td id=\"T_f4a72_row1_col1\" class=\"data row1 col1\" >1.000000</td>\n",
       "      <td id=\"T_f4a72_row1_col2\" class=\"data row1 col2\" >-0.225534</td>\n",
       "      <td id=\"T_f4a72_row1_col3\" class=\"data row1 col3\" >nan</td>\n",
       "    </tr>\n",
       "    <tr>\n",
       "      <th id=\"T_f4a72_level0_row2\" class=\"row_heading level0 row2\" >km_driven</th>\n",
       "      <td id=\"T_f4a72_row2_col0\" class=\"data row2 col0\" >-0.418006</td>\n",
       "      <td id=\"T_f4a72_row2_col1\" class=\"data row2 col1\" >-0.225534</td>\n",
       "      <td id=\"T_f4a72_row2_col2\" class=\"data row2 col2\" >1.000000</td>\n",
       "      <td id=\"T_f4a72_row2_col3\" class=\"data row2 col3\" >nan</td>\n",
       "    </tr>\n",
       "    <tr>\n",
       "      <th id=\"T_f4a72_level0_row3\" class=\"row_heading level0 row3\" >seats</th>\n",
       "      <td id=\"T_f4a72_row3_col0\" class=\"data row3 col0\" >nan</td>\n",
       "      <td id=\"T_f4a72_row3_col1\" class=\"data row3 col1\" >nan</td>\n",
       "      <td id=\"T_f4a72_row3_col2\" class=\"data row3 col2\" >nan</td>\n",
       "      <td id=\"T_f4a72_row3_col3\" class=\"data row3 col3\" >1.000000</td>\n",
       "    </tr>\n",
       "  </tbody>\n",
       "</table>\n"
      ],
      "text/plain": [
       "<pandas.io.formats.style.Styler at 0x7fa1048639d0>"
      ]
     },
     "execution_count": 131,
     "metadata": {},
     "output_type": "execute_result"
    }
   ],
   "source": [
    "corr_df.style.background_gradient(cmap='Reds')"
   ]
  },
  {
   "cell_type": "code",
   "execution_count": 132,
   "metadata": {},
   "outputs": [
    {
     "data": {
      "text/html": [
       "<div>\n",
       "<style scoped>\n",
       "    .dataframe tbody tr th:only-of-type {\n",
       "        vertical-align: middle;\n",
       "    }\n",
       "\n",
       "    .dataframe tbody tr th {\n",
       "        vertical-align: top;\n",
       "    }\n",
       "\n",
       "    .dataframe thead th {\n",
       "        text-align: right;\n",
       "    }\n",
       "</style>\n",
       "<table border=\"1\" class=\"dataframe\">\n",
       "  <thead>\n",
       "    <tr style=\"text-align: right;\">\n",
       "      <th></th>\n",
       "      <th>year</th>\n",
       "    </tr>\n",
       "  </thead>\n",
       "  <tbody>\n",
       "    <tr>\n",
       "      <th>316</th>\n",
       "      <td>1983</td>\n",
       "    </tr>\n",
       "    <tr>\n",
       "      <th>5322</th>\n",
       "      <td>1991</td>\n",
       "    </tr>\n",
       "    <tr>\n",
       "      <th>1432</th>\n",
       "      <td>1994</td>\n",
       "    </tr>\n",
       "    <tr>\n",
       "      <th>1474</th>\n",
       "      <td>1994</td>\n",
       "    </tr>\n",
       "    <tr>\n",
       "      <th>4712</th>\n",
       "      <td>1994</td>\n",
       "    </tr>\n",
       "    <tr>\n",
       "      <th>...</th>\n",
       "      <td>...</td>\n",
       "    </tr>\n",
       "    <tr>\n",
       "      <th>7589</th>\n",
       "      <td>2020</td>\n",
       "    </tr>\n",
       "    <tr>\n",
       "      <th>7586</th>\n",
       "      <td>2020</td>\n",
       "    </tr>\n",
       "    <tr>\n",
       "      <th>3218</th>\n",
       "      <td>2020</td>\n",
       "    </tr>\n",
       "    <tr>\n",
       "      <th>106</th>\n",
       "      <td>2020</td>\n",
       "    </tr>\n",
       "    <tr>\n",
       "      <th>583</th>\n",
       "      <td>2020</td>\n",
       "    </tr>\n",
       "  </tbody>\n",
       "</table>\n",
       "<p>8128 rows × 1 columns</p>\n",
       "</div>"
      ],
      "text/plain": [
       "      year\n",
       "316   1983\n",
       "5322  1991\n",
       "1432  1994\n",
       "1474  1994\n",
       "4712  1994\n",
       "...    ...\n",
       "7589  2020\n",
       "7586  2020\n",
       "3218  2020\n",
       "106   2020\n",
       "583   2020\n",
       "\n",
       "[8128 rows x 1 columns]"
      ]
     },
     "execution_count": 132,
     "metadata": {},
     "output_type": "execute_result"
    }
   ],
   "source": [
    "pysparkDf_two.select('year').toPandas().sort_values(by='year')"
   ]
  },
  {
   "cell_type": "markdown",
   "metadata": {},
   "source": [
    "### Histogram to show the distribution of 'Seats' of the CarDekho Sales' Data."
   ]
  },
  {
   "cell_type": "code",
   "execution_count": 133,
   "metadata": {},
   "outputs": [
    {
     "data": {
      "image/png": "[encoded data removed]",
      "text/plain": [
       "<Figure size 720x576 with 1 Axes>"
      ]
     },
     "metadata": {
      "needs_background": "light"
     },
     "output_type": "display_data"
    }
   ],
   "source": [
    "x = pysparkDf_two.select('year').toPandas().sort_values(by='year')\n",
    "bins = np.arange(0, 45, 5.0)\n",
    "\n",
    "plt.figure(figsize=(10,8))\n",
    "# the histogram of the data\n",
    "plt.hist(x, bins, alpha=0.8, histtype='bar', color='blue',\n",
    "         ec='black',weights=np.zeros_like(x) + 100. / x.size)\n",
    "\n",
    "plt.xlabel('Age')\n",
    "plt.ylabel('percentage')\n",
    "plt.xticks(bins, size=10, rotation=20)\n",
    "plt.show()\n",
    "\n",
    "# fig.savefig(var+\".pdf\", bbox_inches='tight')"
   ]
  },
  {
   "cell_type": "markdown",
   "metadata": {},
   "source": [
    "# <center>----------------------- Data Sets JOIN -----------------------"
   ]
  },
  {
   "cell_type": "code",
   "execution_count": 136,
   "metadata": {},
   "outputs": [],
   "source": [
    "# Load data\n",
    "path = '/Users/HarshitGaur/Documents/Northeastern University/MPS Analytics/ALY 6110/Project/Dataset/Countries-Continents.csv'\n",
    "pysparkDf_three = spark.read.csv(path, header=True)\n"
   ]
  },
  {
   "cell_type": "markdown",
   "metadata": {},
   "source": [
    "### Showcasing the Countries - Continents Matching"
   ]
  },
  {
   "cell_type": "code",
   "execution_count": 137,
   "metadata": {},
   "outputs": [
    {
     "name": "stdout",
     "output_type": "stream",
     "text": [
      "+---------+--------+\n",
      "|Continent| Country|\n",
      "+---------+--------+\n",
      "|   Africa| Algeria|\n",
      "|   Africa|  Angola|\n",
      "|   Africa|   Benin|\n",
      "|   Africa|Botswana|\n",
      "|   Africa| Burkina|\n",
      "+---------+--------+\n",
      "only showing top 5 rows\n",
      "\n"
     ]
    }
   ],
   "source": [
    "pysparkDf_three.show(5)"
   ]
  },
  {
   "cell_type": "markdown",
   "metadata": {},
   "source": [
    "## INNER JOIN the 1st dataset (Census Data) and 3rd dataset (Countries-Continents Data)"
   ]
  },
  {
   "cell_type": "code",
   "execution_count": 138,
   "metadata": {},
   "outputs": [
    {
     "name": "stdout",
     "output_type": "stream",
     "text": [
      "+---+-----------------+------+-------------+-------------+--------------------+------------------+---------------+-------------------+-------+------------+------------+--------------+-------------+------+-------------+-------------+\n",
      "|age|        workclass|fnlwgt|    education|education-num|      marital-status|        occupation|   relationship|               race|    sex|capital-gain|capital-loss|hours-per-week|      country|Income|    Continent|      Country|\n",
      "+---+-----------------+------+-------------+-------------+--------------------+------------------+---------------+-------------------+-------+------------+------------+--------------+-------------+------+-------------+-------------+\n",
      "| 39|        State-gov| 77516|    Bachelors|           13|       Never-married|      Adm-clerical|  Not-in-family|              White|   Male|        2174|           0|            40|United-States| <=50K|North America|United-States|\n",
      "| 50| Self-emp-not-inc| 83311|    Bachelors|           13|  Married-civ-spouse|   Exec-managerial|        Husband|              White|   Male|           0|           0|            13|United-States| <=50K|North America|United-States|\n",
      "| 38|          Private|215646|      HS-grad|            9|            Divorced| Handlers-cleaners|  Not-in-family|              White|   Male|           0|           0|            40|United-States| <=50K|North America|United-States|\n",
      "| 53|          Private|234721|         11th|            7|  Married-civ-spouse| Handlers-cleaners|        Husband|              Black|   Male|           0|           0|            40|United-States| <=50K|North America|United-States|\n",
      "| 28|          Private|338409|    Bachelors|           13|  Married-civ-spouse|    Prof-specialty|           Wife|              Black| Female|           0|           0|            40|         Cuba| <=50K|North America|         Cuba|\n",
      "| 37|          Private|284582|      Masters|           14|  Married-civ-spouse|   Exec-managerial|           Wife|              White| Female|           0|           0|            40|United-States| <=50K|North America|United-States|\n",
      "| 49|          Private|160187|          9th|            5| Married-spouse-a...|     Other-service|  Not-in-family|              Black| Female|           0|           0|            16|      Jamaica| <=50K|North America|      Jamaica|\n",
      "| 52| Self-emp-not-inc|209642|      HS-grad|            9|  Married-civ-spouse|   Exec-managerial|        Husband|              White|   Male|           0|           0|            45|United-States|  >50K|North America|United-States|\n",
      "| 31|          Private| 45781|      Masters|           14|       Never-married|    Prof-specialty|  Not-in-family|              White| Female|       14084|           0|            50|United-States|  >50K|North America|United-States|\n",
      "| 42|          Private|159449|    Bachelors|           13|  Married-civ-spouse|   Exec-managerial|        Husband|              White|   Male|        5178|           0|            40|United-States|  >50K|North America|United-States|\n",
      "| 37|          Private|280464| Some-college|           10|  Married-civ-spouse|   Exec-managerial|        Husband|              Black|   Male|           0|           0|            80|United-States|  >50K|North America|United-States|\n",
      "| 30|        State-gov|141297|    Bachelors|           13|  Married-civ-spouse|    Prof-specialty|        Husband| Asian-Pac-Islander|   Male|           0|           0|            40|        India|  >50K|         Asia|        India|\n",
      "| 23|          Private|122272|    Bachelors|           13|       Never-married|      Adm-clerical|      Own-child|              White| Female|           0|           0|            30|United-States| <=50K|North America|United-States|\n",
      "| 32|          Private|205019|   Assoc-acdm|           12|       Never-married|             Sales|  Not-in-family|              Black|   Male|           0|           0|            50|United-States| <=50K|North America|United-States|\n",
      "| 34|          Private|245487|      7th-8th|            4|  Married-civ-spouse|  Transport-moving|        Husband| Amer-Indian-Eskimo|   Male|           0|           0|            45|       Mexico| <=50K|North America|       Mexico|\n",
      "| 25| Self-emp-not-inc|176756|      HS-grad|            9|       Never-married|   Farming-fishing|      Own-child|              White|   Male|           0|           0|            35|United-States| <=50K|North America|United-States|\n",
      "| 32|          Private|186824|      HS-grad|            9|       Never-married| Machine-op-inspct|      Unmarried|              White|   Male|           0|           0|            40|United-States| <=50K|North America|United-States|\n",
      "| 38|          Private| 28887|         11th|            7|  Married-civ-spouse|             Sales|        Husband|              White|   Male|           0|           0|            50|United-States| <=50K|North America|United-States|\n",
      "| 43| Self-emp-not-inc|292175|      Masters|           14|            Divorced|   Exec-managerial|      Unmarried|              White| Female|           0|           0|            45|United-States|  >50K|North America|United-States|\n",
      "| 40|          Private|193524|    Doctorate|           16|  Married-civ-spouse|    Prof-specialty|        Husband|              White|   Male|           0|           0|            60|United-States|  >50K|North America|United-States|\n",
      "| 54|          Private|302146|      HS-grad|            9|           Separated|     Other-service|      Unmarried|              Black| Female|           0|           0|            20|United-States| <=50K|North America|United-States|\n",
      "| 35|      Federal-gov| 76845|          9th|            5|  Married-civ-spouse|   Farming-fishing|        Husband|              Black|   Male|           0|           0|            40|United-States| <=50K|North America|United-States|\n",
      "| 43|          Private|117037|         11th|            7|  Married-civ-spouse|  Transport-moving|        Husband|              White|   Male|           0|        2042|            40|United-States| <=50K|North America|United-States|\n",
      "| 59|          Private|109015|      HS-grad|            9|            Divorced|      Tech-support|      Unmarried|              White| Female|           0|           0|            40|United-States| <=50K|North America|United-States|\n",
      "| 56|        Local-gov|216851|    Bachelors|           13|  Married-civ-spouse|      Tech-support|        Husband|              White|   Male|           0|           0|            40|United-States|  >50K|North America|United-States|\n",
      "| 19|          Private|168294|      HS-grad|            9|       Never-married|      Craft-repair|      Own-child|              White|   Male|           0|           0|            40|United-States| <=50K|North America|United-States|\n",
      "| 39|          Private|367260|      HS-grad|            9|            Divorced|   Exec-managerial|  Not-in-family|              White|   Male|           0|           0|            80|United-States| <=50K|North America|United-States|\n",
      "| 49|          Private|193366|      HS-grad|            9|  Married-civ-spouse|      Craft-repair|        Husband|              White|   Male|           0|           0|            40|United-States| <=50K|North America|United-States|\n",
      "| 23|        Local-gov|190709|   Assoc-acdm|           12|       Never-married|   Protective-serv|  Not-in-family|              White|   Male|           0|           0|            52|United-States| <=50K|North America|United-States|\n",
      "| 20|          Private|266015| Some-college|           10|       Never-married|             Sales|      Own-child|              Black|   Male|           0|           0|            44|United-States| <=50K|North America|United-States|\n",
      "| 45|          Private|386940|    Bachelors|           13|            Divorced|   Exec-managerial|      Own-child|              White|   Male|           0|        1408|            40|United-States| <=50K|North America|United-States|\n",
      "| 30|      Federal-gov| 59951| Some-college|           10|  Married-civ-spouse|      Adm-clerical|      Own-child|              White|   Male|           0|           0|            40|United-States| <=50K|North America|United-States|\n",
      "| 22|        State-gov|311512| Some-college|           10|  Married-civ-spouse|     Other-service|        Husband|              Black|   Male|           0|           0|            15|United-States| <=50K|North America|United-States|\n",
      "| 21|          Private|197200| Some-college|           10|       Never-married| Machine-op-inspct|      Own-child|              White|   Male|           0|           0|            40|United-States| <=50K|North America|United-States|\n",
      "| 19|          Private|544091|      HS-grad|            9|   Married-AF-spouse|      Adm-clerical|           Wife|              White| Female|           0|           0|            25|United-States| <=50K|North America|United-States|\n",
      "| 48| Self-emp-not-inc|265477|   Assoc-acdm|           12|  Married-civ-spouse|    Prof-specialty|        Husband|              White|   Male|           0|           0|            40|United-States| <=50K|North America|United-States|\n",
      "| 31|          Private|507875|          9th|            5|  Married-civ-spouse| Machine-op-inspct|        Husband|              White|   Male|           0|           0|            43|United-States| <=50K|North America|United-States|\n",
      "| 53| Self-emp-not-inc| 88506|    Bachelors|           13|  Married-civ-spouse|    Prof-specialty|        Husband|              White|   Male|           0|           0|            40|United-States| <=50K|North America|United-States|\n",
      "| 24|          Private|172987|    Bachelors|           13|  Married-civ-spouse|      Tech-support|        Husband|              White|   Male|           0|           0|            50|United-States| <=50K|North America|United-States|\n",
      "| 49|          Private| 94638|      HS-grad|            9|           Separated|      Adm-clerical|      Unmarried|              White| Female|           0|           0|            40|United-States| <=50K|North America|United-States|\n",
      "| 25|          Private|289980|      HS-grad|            9|       Never-married| Handlers-cleaners|  Not-in-family|              White|   Male|           0|           0|            35|United-States| <=50K|North America|United-States|\n",
      "| 57|      Federal-gov|337895|    Bachelors|           13|  Married-civ-spouse|    Prof-specialty|        Husband|              Black|   Male|           0|           0|            40|United-States|  >50K|North America|United-States|\n",
      "| 53|          Private|144361|      HS-grad|            9|  Married-civ-spouse| Machine-op-inspct|        Husband|              White|   Male|           0|           0|            38|United-States| <=50K|North America|United-States|\n",
      "| 44|          Private|128354|      Masters|           14|            Divorced|   Exec-managerial|      Unmarried|              White| Female|           0|           0|            40|United-States| <=50K|North America|United-States|\n",
      "| 41|        State-gov|101603|    Assoc-voc|           11|  Married-civ-spouse|      Craft-repair|        Husband|              White|   Male|           0|           0|            40|United-States| <=50K|North America|United-States|\n",
      "| 29|          Private|271466|    Assoc-voc|           11|       Never-married|    Prof-specialty|  Not-in-family|              White|   Male|           0|           0|            43|United-States| <=50K|North America|United-States|\n",
      "| 25|          Private| 32275| Some-college|           10|  Married-civ-spouse|   Exec-managerial|           Wife|              Other| Female|           0|           0|            40|United-States| <=50K|North America|United-States|\n",
      "| 47|          Private| 51835|  Prof-school|           15|  Married-civ-spouse|    Prof-specialty|           Wife|              White| Female|           0|        1902|            60|     Honduras|  >50K|North America|     Honduras|\n",
      "| 50|      Federal-gov|251585|    Bachelors|           13|            Divorced|   Exec-managerial|  Not-in-family|              White|   Male|           0|           0|            55|United-States|  >50K|North America|United-States|\n",
      "| 47|     Self-emp-inc|109832|      HS-grad|            9|            Divorced|   Exec-managerial|  Not-in-family|              White|   Male|           0|           0|            60|United-States| <=50K|North America|United-States|\n",
      "| 43|          Private|237993| Some-college|           10|  Married-civ-spouse|      Tech-support|        Husband|              White|   Male|           0|           0|            40|United-States|  >50K|North America|United-States|\n",
      "| 46|          Private|216666|      5th-6th|            3|  Married-civ-spouse| Machine-op-inspct|        Husband|              White|   Male|           0|           0|            40|       Mexico| <=50K|North America|       Mexico|\n",
      "| 41|          Private|147372|      HS-grad|            9|  Married-civ-spouse|      Adm-clerical|        Husband|              White|   Male|           0|           0|            48|United-States| <=50K|North America|United-States|\n",
      "| 30|          Private|188146|      HS-grad|            9|  Married-civ-spouse| Machine-op-inspct|        Husband|              White|   Male|        5013|           0|            40|United-States| <=50K|North America|United-States|\n",
      "| 30|          Private| 59496|    Bachelors|           13|  Married-civ-spouse|             Sales|        Husband|              White|   Male|        2407|           0|            40|United-States| <=50K|North America|United-States|\n",
      "| 48|          Private|149640|      HS-grad|            9|  Married-civ-spouse|  Transport-moving|        Husband|              White|   Male|           0|           0|            40|United-States| <=50K|North America|United-States|\n",
      "| 42|          Private|116632|    Doctorate|           16|  Married-civ-spouse|    Prof-specialty|        Husband|              White|   Male|           0|           0|            45|United-States|  >50K|North America|United-States|\n",
      "| 29|          Private|105598| Some-college|           10|            Divorced|      Tech-support|  Not-in-family|              White|   Male|           0|           0|            58|United-States| <=50K|North America|United-States|\n",
      "| 36|          Private|155537|      HS-grad|            9|  Married-civ-spouse|      Craft-repair|        Husband|              White|   Male|           0|           0|            40|United-States| <=50K|North America|United-States|\n",
      "| 28|          Private|183175| Some-college|           10|            Divorced|      Adm-clerical|  Not-in-family|              White| Female|           0|           0|            40|United-States| <=50K|North America|United-States|\n",
      "| 53|          Private|169846|      HS-grad|            9|  Married-civ-spouse|      Adm-clerical|           Wife|              White| Female|           0|           0|            40|United-States|  >50K|North America|United-States|\n",
      "| 49|     Self-emp-inc|191681| Some-college|           10|  Married-civ-spouse|   Exec-managerial|        Husband|              White|   Male|           0|           0|            50|United-States|  >50K|North America|United-States|\n",
      "| 25|                ?|200681| Some-college|           10|       Never-married|                 ?|      Own-child|              White|   Male|           0|           0|            40|United-States| <=50K|North America|United-States|\n",
      "| 19|          Private|101509| Some-college|           10|       Never-married|    Prof-specialty|      Own-child|              White|   Male|           0|           0|            32|United-States| <=50K|North America|United-States|\n",
      "| 31|          Private|309974|    Bachelors|           13|           Separated|             Sales|      Own-child|              Black| Female|           0|           0|            40|United-States| <=50K|North America|United-States|\n",
      "| 29| Self-emp-not-inc|162298|    Bachelors|           13|  Married-civ-spouse|             Sales|        Husband|              White|   Male|           0|           0|            70|United-States|  >50K|North America|United-States|\n",
      "| 23|          Private|211678| Some-college|           10|       Never-married| Machine-op-inspct|  Not-in-family|              White|   Male|           0|           0|            40|United-States| <=50K|North America|United-States|\n",
      "| 79|          Private|124744| Some-college|           10|  Married-civ-spouse|    Prof-specialty| Other-relative|              White|   Male|           0|           0|            20|United-States| <=50K|North America|United-States|\n",
      "| 27|          Private|213921|      HS-grad|            9|       Never-married|     Other-service|      Own-child|              White|   Male|           0|           0|            40|       Mexico| <=50K|North America|       Mexico|\n",
      "| 40|          Private| 32214|   Assoc-acdm|           12|  Married-civ-spouse|      Adm-clerical|        Husband|              White|   Male|           0|           0|            40|United-States| <=50K|North America|United-States|\n",
      "| 67|                ?|212759|         10th|            6|  Married-civ-spouse|                 ?|        Husband|              White|   Male|           0|           0|             2|United-States| <=50K|North America|United-States|\n",
      "| 18|          Private|309634|         11th|            7|       Never-married|     Other-service|      Own-child|              White| Female|           0|           0|            22|United-States| <=50K|North America|United-States|\n",
      "| 31|        Local-gov|125927|      7th-8th|            4|  Married-civ-spouse|   Farming-fishing|        Husband|              White|   Male|           0|           0|            40|United-States| <=50K|North America|United-States|\n",
      "| 18|          Private|446839|      HS-grad|            9|       Never-married|             Sales|  Not-in-family|              White|   Male|           0|           0|            30|United-States| <=50K|North America|United-States|\n",
      "| 52|          Private|276515|    Bachelors|           13|  Married-civ-spouse|     Other-service|        Husband|              White|   Male|           0|           0|            40|         Cuba| <=50K|North America|         Cuba|\n",
      "| 46|          Private| 51618|      HS-grad|            9|  Married-civ-spouse|     Other-service|           Wife|              White| Female|           0|           0|            40|United-States| <=50K|North America|United-States|\n",
      "| 59|          Private|159937|      HS-grad|            9|  Married-civ-spouse|             Sales|        Husband|              White|   Male|           0|           0|            48|United-States| <=50K|North America|United-States|\n",
      "| 44|          Private|343591|      HS-grad|            9|            Divorced|      Craft-repair|  Not-in-family|              White| Female|       14344|           0|            40|United-States|  >50K|North America|United-States|\n",
      "| 53|          Private|346253|      HS-grad|            9|            Divorced|             Sales|      Own-child|              White| Female|           0|           0|            35|United-States| <=50K|North America|United-States|\n",
      "| 49|        Local-gov|268234|      HS-grad|            9|  Married-civ-spouse|   Protective-serv|        Husband|              White|   Male|           0|           0|            40|United-States|  >50K|North America|United-States|\n",
      "| 33|          Private|202051|      Masters|           14|  Married-civ-spouse|    Prof-specialty|        Husband|              White|   Male|           0|           0|            50|United-States| <=50K|North America|United-States|\n",
      "| 30|          Private| 54334|          9th|            5|       Never-married|             Sales|  Not-in-family|              White|   Male|           0|           0|            40|United-States| <=50K|North America|United-States|\n",
      "| 43|      Federal-gov|410867|    Doctorate|           16|       Never-married|    Prof-specialty|  Not-in-family|              White| Female|           0|           0|            50|United-States|  >50K|North America|United-States|\n",
      "| 57|          Private|249977|    Assoc-voc|           11|  Married-civ-spouse|    Prof-specialty|        Husband|              White|   Male|           0|           0|            40|United-States| <=50K|North America|United-States|\n",
      "| 37|          Private|286730| Some-college|           10|            Divorced|      Craft-repair|      Unmarried|              White| Female|           0|           0|            40|United-States| <=50K|North America|United-States|\n",
      "| 28|          Private|212563| Some-college|           10|            Divorced| Machine-op-inspct|      Unmarried|              Black| Female|           0|           0|            25|United-States| <=50K|North America|United-States|\n",
      "| 34|        Local-gov|226296|    Bachelors|           13|  Married-civ-spouse|   Protective-serv|        Husband|              White|   Male|           0|           0|            40|United-States|  >50K|North America|United-States|\n",
      "| 29|        Local-gov|115585| Some-college|           10|       Never-married| Handlers-cleaners|  Not-in-family|              White|   Male|           0|           0|            50|United-States| <=50K|North America|United-States|\n",
      "| 48| Self-emp-not-inc|191277|    Doctorate|           16|  Married-civ-spouse|    Prof-specialty|        Husband|              White|   Male|           0|        1902|            60|United-States|  >50K|North America|United-States|\n",
      "| 37|          Private|202683| Some-college|           10|  Married-civ-spouse|             Sales|        Husband|              White|   Male|           0|           0|            48|United-States|  >50K|North America|United-States|\n",
      "| 32|      Federal-gov|249409|      HS-grad|            9|       Never-married|     Other-service|      Own-child|              Black|   Male|           0|           0|            40|United-States| <=50K|North America|United-States|\n",
      "| 76|          Private|124191|      Masters|           14|  Married-civ-spouse|   Exec-managerial|        Husband|              White|   Male|           0|           0|            40|United-States|  >50K|North America|United-States|\n",
      "| 44|          Private|198282|    Bachelors|           13|  Married-civ-spouse|   Exec-managerial|        Husband|              White|   Male|       15024|           0|            60|United-States|  >50K|North America|United-States|\n",
      "| 47| Self-emp-not-inc|149116|      Masters|           14|       Never-married|    Prof-specialty|  Not-in-family|              White| Female|           0|           0|            50|United-States| <=50K|North America|United-States|\n",
      "| 20|          Private|188300| Some-college|           10|       Never-married|      Tech-support|      Own-child|              White| Female|           0|           0|            40|United-States| <=50K|North America|United-States|\n",
      "| 29|          Private|103432|      HS-grad|            9|       Never-married|      Craft-repair|  Not-in-family|              White|   Male|           0|           0|            40|United-States| <=50K|North America|United-States|\n",
      "| 32|     Self-emp-inc|317660|      HS-grad|            9|  Married-civ-spouse|      Craft-repair|        Husband|              White|   Male|        7688|           0|            40|United-States|  >50K|North America|United-States|\n",
      "| 17|                ?|304873|         10th|            6|       Never-married|                 ?|      Own-child|              White| Female|       34095|           0|            32|United-States| <=50K|North America|United-States|\n",
      "| 30|          Private|194901|         11th|            7|       Never-married| Handlers-cleaners|      Own-child|              White|   Male|           0|           0|            40|United-States| <=50K|North America|United-States|\n",
      "| 31|        Local-gov|189265|      HS-grad|            9|       Never-married|      Adm-clerical|  Not-in-family|              White| Female|           0|           0|            40|United-States| <=50K|North America|United-States|\n",
      "+---+-----------------+------+-------------+-------------+--------------------+------------------+---------------+-------------------+-------+------------+------------+--------------+-------------+------+-------------+-------------+\n",
      "only showing top 100 rows\n",
      "\n"
     ]
    }
   ],
   "source": [
    "pysparkDf.join(pysparkDf_three, pysparkDf_three.Country ==  pysparkDf.country, \"inner\") \\\n",
    "     .show(100)"
   ]
  }
 ],
 "metadata": {
  "kernelspec": {
   "display_name": "Python 3.8.11 ('base')",
   "language": "python",
   "name": "python3"
  },
  "language_info": {
   "codemirror_mode": {
    "name": "ipython",
    "version": 3
   },
   "file_extension": ".py",
   "mimetype": "text/x-python",
   "name": "python",
   "nbconvert_exporter": "python",
   "pygments_lexer": "ipython3",
   "version": "3.8.11"
  },
  "orig_nbformat": 4,
  "vscode": {
   "interpreter": {
    "hash": "f8594b24c37692db55ff3d81b921d1571d31b17b39641932a013aefdfbad5308"
   }
  }
 },
 "nbformat": 4,
 "nbformat_minor": 2
}
